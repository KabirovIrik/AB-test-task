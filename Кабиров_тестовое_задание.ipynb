{
  "nbformat": 4,
  "nbformat_minor": 0,
  "metadata": {
    "colab": {
      "name": "test_avtomak.ipynb",
      "provenance": [],
      "collapsed_sections": []
    },
    "kernelspec": {
      "name": "python3",
      "display_name": "Python 3"
    },
    "language_info": {
      "name": "python"
    }
  },
  "cells": [
    {
      "cell_type": "markdown",
      "metadata": {
        "id": "TxIt4J1X4Uwj"
      },
      "source": [
        "# Выполнил\n",
        "Кабиров Ирик <br>\n",
        "Резюме ссылки: \n",
        "- https://ufa.hh.ru/resume/87314315ff091df0fb0039ed1f506848353144 \n",
        "- https://www.linkedin.com/in/irik-kabirov-abb688132/\n",
        "\n",
        "Контакты:\n",
        "- irik.kabirov@yandex.ru\n",
        "- https://t.me/KabiroivIrik\n",
        "\n",
        "На вакнсию откликнулся  резюме \"Data scientist / Data-аналитик\"\n",
        "<br>\n",
        "github: https://github.com/KabirovIrik"
      ]
    },
    {
      "cell_type": "markdown",
      "metadata": {
        "id": "Stq-4cDZBlrR"
      },
      "source": [
        "# Тестовое задание:\n",
        "Было запущено 2 рекламные компании одного и того же продукта.<br>\n",
        "Первые результаты были следующими:<br>\n",
        "- среди мужской аудитории было 3000 показов рекламы и 130 кликов<br>\n",
        "- среди женской аудитории было 980 показов и 50 кликов<br>\n",
        "\n",
        "Можно ли с вероятностью 95% утверждать, что в дальнейшем конверсия среди <br> женской аудитории будет выше, чем среди мужской.<br>"
      ]
    },
    {
      "cell_type": "markdown",
      "metadata": {
        "id": "4AdSIacrB0An"
      },
      "source": [
        "# Решение"
      ]
    },
    {
      "cell_type": "markdown",
      "metadata": {
        "id": "-ZDEOB4NJj4-"
      },
      "source": [
        "## Краткий обзор\n",
        "Взглянем на доли кликов: общую и по обеим аудиториям  "
      ]
    },
    {
      "cell_type": "code",
      "metadata": {
        "id": "zYZVNH1IJ1SW",
        "colab": {
          "base_uri": "https://localhost:8080/",
          "height": 0
        },
        "outputId": "41b820f1-3c4f-4e5a-db2e-b34605babaf3"
      },
      "source": [
        "import numpy as np\n",
        "from scipy import stats\n",
        "import statsmodels.api as sm\n",
        "import statsmodels.stats.power as power\n",
        "import pandas as pd\n",
        "import matplotlib.pylab as plt\n",
        "import  random"
      ],
      "execution_count": 1,
      "outputs": [
        {
          "output_type": "stream",
          "name": "stderr",
          "text": [
            "/usr/local/lib/python3.7/dist-packages/statsmodels/tools/_testing.py:19: FutureWarning: pandas.util.testing is deprecated. Use the functions in the public API at pandas.testing instead.\n",
            "  import pandas.util.testing as tm\n"
          ]
        }
      ]
    },
    {
      "cell_type": "code",
      "metadata": {
        "colab": {
          "base_uri": "https://localhost:8080/",
          "height": 0
        },
        "id": "OmKf7RrUTkoM",
        "outputId": "9fb92567-d5a1-4a46-ba23-b72e10f8c1b4"
      },
      "source": [
        "males = 3000\n",
        "male_click = 130\n",
        "male_no_click = males - male_click\n",
        "male_prop = np.round(100*male_click/males, 2)\n",
        "\n",
        "females = 980\n",
        "female_click = 50\n",
        "female_no_click = females - female_click\n",
        "female_prop = np.round(100*female_click/females, 2)\n",
        "\n",
        "total_views = males + females\n",
        "total_no_click = male_no_click + female_no_click\n",
        "total_clicks = male_click + female_click\n",
        "total_prop = np.round(100*total_clicks/total_views, 2)\n",
        "\n",
        "print(f\"Доля кликов мужской аудитории:\\t{male_prop}%\")\n",
        "print(f\"Доля кликов женской аудитории:\\t{female_prop}%\")\n",
        "print(f\"Доля кликов общая:\\t\\t{total_prop}%\")\n",
        "print()\n",
        "print(f\"Кликов males аудитории:\\t\\t{males}\")\n",
        "print(f\"Кликов женской аудитории:\\t{females}\")\n",
        "print()\n",
        "print(f\"Всего прсмотров:\\t\\t{total_views}\")\n",
        "print(f\"Всего кликов:\\t\\t\\t{total_clicks}\")\n",
        "print(f\"Всего НЕкликов:\\t\\t\\t{total_no_click}\")\n",
        "\n"
      ],
      "execution_count": 2,
      "outputs": [
        {
          "output_type": "stream",
          "name": "stdout",
          "text": [
            "Доля кликов мужской аудитории:\t4.33%\n",
            "Доля кликов женской аудитории:\t5.1%\n",
            "Доля кликов общая:\t\t4.52%\n",
            "\n",
            "Кликов males аудитории:\t\t3000\n",
            "Кликов женской аудитории:\t980\n",
            "\n",
            "Всего прсмотров:\t\t3980\n",
            "Всего кликов:\t\t\t180\n",
            "Всего НЕкликов:\t\t\t3800\n"
          ]
        }
      ]
    },
    {
      "cell_type": "markdown",
      "metadata": {
        "id": "wTNywx5BDGZ4"
      },
      "source": [
        "Наблюдаемая конверсия женской аудитории больше конверсий общей и мужской аудитории <br>\n",
        "Формулируем гипотезы:\n",
        "- Нулевая гипотеза $H_0$: разница между конверсиями вызвана случайностью и не значима.\n",
        "- Альтернативная гипотеза $H_1$: доля кликов женской аудитории больше мужской (односторонний критерий), т.е. разница между конверсиями не случайна и статистически значима.  \n",
        "\n",
        "Проведем два теста, чтобы сделать вывод и отвергнуть одну из гипотез:\n",
        "- Перестановочный тест\n",
        "- Проверка Хи-квадрат"
      ]
    },
    {
      "cell_type": "markdown",
      "metadata": {
        "id": "Ds1ePbf9zEIV"
      },
      "source": [
        "## Мощность теста\n",
        "Рассчитаем вероятность отклонить нулевую гипотезу с текущим количеством данных"
      ]
    },
    {
      "cell_type": "code",
      "metadata": {
        "colab": {
          "base_uri": "https://localhost:8080/",
          "height": 0
        },
        "id": "7tVoTGEtzMuC",
        "outputId": "f5d74337-f5cd-4356-e1ef-7e9e710b446b"
      },
      "source": [
        "# Размер эффекта - разность между долями кликов\n",
        "effect_size = sm.stats.proportion_effectsize(female_click/females, male_click/males)\n",
        "# уровень значимости\n",
        "alpha = .05\n",
        "\n",
        "zpower = power.NormalIndPower()\n",
        "\n",
        "# Соотношение групп\n",
        "ratio = females/males\n",
        "\n",
        "# Мощность для двух групп\n",
        "stat_power = np.round(100*zpower.power(effect_size, males, alpha, ratio=ratio, alternative='larger'), 2)\n",
        "\n",
        "# Размер одной группы для 95% мощности\n",
        "sample_size = zpower.solve_power(effect_size=effect_size, power=.95, alpha=alpha, ratio=1)\n",
        "\n",
        "print(f'Текущая мощность: \\t\\t{stat_power}%')\n",
        "print(f'Размер группы для 95% мощности:\\t{np.int(sample_size)}')"
      ],
      "execution_count": 3,
      "outputs": [
        {
          "output_type": "stream",
          "name": "stdout",
          "text": [
            "Текущая мощность: \t\t25.51%\n",
            "Размер группы для 95% мощности:\t19738\n"
          ]
        }
      ]
    },
    {
      "cell_type": "markdown",
      "metadata": {
        "id": "FCIHIupCKObK"
      },
      "source": [
        "## Перестановочный тест\n",
        "С помощью перестановочного теста узнаем: как часто наблюдаемая разница долей кликов может произойти случайным образом\n",
        "<br>\n",
        "План:\n",
        "- Создадим общую выборку просмотров, которая будет состоять из нулей и единиц, где 0 - клика не было, 1 - клик был\n",
        "- Много раз (например, 1000) выполним следующий цикл:\n",
        "  - Из общей выборки создаем две новые выборки (муж. и жен. аудитории). Для этого возьмем без возврата 3000 элементов для мужской аудитории и 980 - для женской.\n",
        "  - Посчитаем и сохраним разницу между долями кликов мужской и женской аудиторий\n",
        "- Из сохраненных разниц создаем гистограмму\n",
        "- Строим 95% доверительный интервал. Т.к. критерий односторонний, то берем границы между квантилями от 0 и 0.95\n",
        "- Смотрим где находится наблюдаемая разница"
      ]
    },
    {
      "cell_type": "code",
      "metadata": {
        "colab": {
          "base_uri": "https://localhost:8080/",
          "height": 764
        },
        "id": "P3OBFC16TEqu",
        "outputId": "0ed0e0d4-fce1-4aea-8c2e-2e4222e95a3f"
      },
      "source": [
        "random.seed(42) # зафиксируем для воспроизводимости результата\n",
        "\n",
        "# Функция получения разниц конверсий между двух выборок\n",
        "def permSets(x, nA, nB):\n",
        "  \"\"\"\n",
        "  x  - общая выборка \n",
        "  nA - количество элементов в 1-й выборке\n",
        "  nB - количество элементов во 2-й выборке\n",
        "  \"\"\"\n",
        "  # Получаем общее количество элементов\n",
        "  n = nA + nB\n",
        "\n",
        "  # Получаем случайно индексы для 2-й выборки\n",
        "  idx_B = set(random.sample(range(n), nB))\n",
        "  # Получаем оставшиеся индексы для 1-й выборки\n",
        "  idx_A = set(range(n)) - idx_B\n",
        "\n",
        "  # Находим доли кликов\n",
        "  mean_a = x.loc[idx_A].mean()\n",
        "  mean_b = x.loc[idx_B].mean()\n",
        "\n",
        "  # Возвращаем разницу\n",
        "  return mean_b - mean_a\n",
        "\n",
        "obs_diff = female_prop - male_prop\n",
        "print(f'Наблюдаемая разница конверсий: {obs_diff:.2f}%')\n",
        "\n",
        "# Общая выборка\n",
        "conversion = [0] * total_no_click + [1] * total_clicks\n",
        "conversion = pd.Series(conversion)\n",
        "\n",
        "# Получение списка разниц между ауидториями\n",
        "perm_diffs = np.array([100 * permSets(conversion, males, females) for _ in range(1000)])\n",
        "# Значения доверительного интервала\n",
        "confidence_interval = list(pd.Series(perm_diffs).quantile([0.0, 0.95]))\n",
        "print(\"Границы доверительного 95%-го интервала:\", confidence_interval)\n",
        "\n",
        "# Отрисовка графика\n",
        "fig, ax = plt.subplots(figsize=(10, 10))\n",
        "\n",
        "# Гистограмма\n",
        "ax.hist(perm_diffs, bins=20, rwidth=0.9)\n",
        "\n",
        "# Границы доверительного интервала\n",
        "ax.axvline(x=confidence_interval[0], color='black', lw=1)\n",
        "ax.axvline(x=confidence_interval[1], color='black', lw=1)\n",
        "ax.plot(confidence_interval, [140, 140], '--', color='black')\n",
        "ax.text(0, 145, '95% интервал', horizontalalignment='center', verticalalignment='center', fontsize=14)\n",
        "\n",
        "# Наблюдаемая разница\n",
        "ax.axvline(x=obs_diff, color='black', lw=4)\n",
        "ax.text(obs_diff-.5, 170, 'Наблюдаемая\\nразница', bbox={'facecolor':'white'}, fontsize=14)\n",
        "\n",
        "ax.set_xlabel('Коэффициент конверсии, %', fontsize=14)\n",
        "ax.set_ylabel('Частота', fontsize=14)\n",
        "ax.set_ylim(0, 200)\n",
        "\n",
        "plt.tight_layout()\n",
        "plt.show()"
      ],
      "execution_count": 4,
      "outputs": [
        {
          "output_type": "stream",
          "name": "stdout",
          "text": [
            "Наблюдаемая разница конверсий: 0.77%\n",
            "Границы доверительного 95%-го интервала: [-2.0741496598639455, 1.310204081632653]\n"
          ]
        },
        {
          "output_type": "display_data",
          "data": {
            "image/png": "[encoded data removed]",
            "text/plain": [
              "<Figure size 720x720 with 1 Axes>"
            ]
          },
          "metadata": {
            "needs_background": "light"
          }
        }
      ]
    },
    {
      "cell_type": "markdown",
      "metadata": {
        "id": "JofRB7M2VONS"
      },
      "source": [
        "Наблюдамая разница находится внутри диапазона доверительного интервала, т.е. можно сказать, что разница вызвана случайностью"
      ]
    },
    {
      "cell_type": "markdown",
      "metadata": {
        "id": "LrfiukGVWI8m"
      },
      "source": [
        "## Проверка Хи-квадрат"
      ]
    },
    {
      "cell_type": "code",
      "metadata": {
        "colab": {
          "base_uri": "https://localhost:8080/",
          "height": 0
        },
        "id": "1kUF5Bn5FZRC",
        "outputId": "170c3cd2-3fbe-406c-afac-2689333b15df"
      },
      "source": [
        "# Таблица сопряженности\n",
        "contingency_table = np.array([\n",
        "    [male_click, male_no_click], \n",
        "    [female_click, female_no_click]\n",
        "])\n",
        "\n",
        "\n",
        "# Вычисление значений\n",
        "chi2, p_value, df, _ = stats.chi2_contingency(contingency_table)\n",
        "single_side = p_value / 2# делим попалам для одностороннего критерия\n",
        "print(f'p-value: {single_side:.4f}') \n",
        "\n",
        "if single_side < alpha:\n",
        "  print('Отклоняем нулевую гипотезу')\n",
        "else:\n",
        "  print('Отклоняем альтернативную гипотезу')\n"
      ],
      "execution_count": 5,
      "outputs": [
        {
          "output_type": "stream",
          "name": "stdout",
          "text": [
            "p-value: 0.1796\n",
            "Отклоняем альтернативную гипотезу\n"
          ]
        }
      ]
    },
    {
      "cell_type": "markdown",
      "metadata": {
        "id": "yZeLaZPr0a3X"
      },
      "source": [
        "# Вывод\n",
        "- Мощность теста 25% - это низкий показатель (необходимо больше показов). \n",
        "- Но на данный момент это не важно, так как тесты показали, что стоит отклонить альтернативную гипотезу, т.к. наблюдаемая разница конверсий скорее всего вызвана случайностью"
      ]
    }
  ]
}